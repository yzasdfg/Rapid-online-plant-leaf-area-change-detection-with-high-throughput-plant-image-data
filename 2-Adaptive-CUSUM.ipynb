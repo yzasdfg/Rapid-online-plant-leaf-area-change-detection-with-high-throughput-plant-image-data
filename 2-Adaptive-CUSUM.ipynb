{
 "cells": [
  {
   "cell_type": "code",
   "execution_count": 24,
   "metadata": {},
   "outputs": [],
   "source": [
    "import pandas as pd, numpy as np, os\n",
    "\n",
    "\n",
    "\n",
    "import seaborn as sns\n",
    "import matplotlib.pyplot as plt\n",
    "#import math, os\n",
    "\n",
    "import sys, scipy, random\n",
    "\n",
    "sys.path.append(os.getcwd())\n",
    "from func import *\n"
   ]
  },
  {
   "cell_type": "code",
   "execution_count": 2,
   "metadata": {},
   "outputs": [],
   "source": [
    "path = r'C:\\Users\\zhany\\OneDrive - University of Nebraska-Lincoln\\BoxMigrationUNL\\Code_Program\\Soybean\\\\semi_daily_ADMM\\\\leaf area vs z_tilde\\\\control random sampling\\\\adaptive cusum\\\\thre_1.08_semi_daily\\\\'\n",
    "data_path = r'C:\\Users\\zhany\\Box Sync\\Code_Program\\Soybean\\semi_daily_ADMM\\leaf area vs z_tilde\\data_thre_1.08'\n",
    "os.chdir(path)"
   ]
  },
  {
   "cell_type": "code",
   "execution_count": 3,
   "metadata": {},
   "outputs": [],
   "source": [
    "spline_df = pd.read_csv(data_path +r'\\daily_UnivariateSpline_df.csv')\n"
   ]
  },
  {
   "cell_type": "code",
   "execution_count": 4,
   "metadata": {},
   "outputs": [],
   "source": [
    "spline_control = spline_df[spline_df['Treatment'] == 'control'].sort_values(['Plant.ID', 'Lag']).copy()\n",
    "spline_drought = spline_df[spline_df['Treatment'] == 'drought'].sort_values(['Plant.ID', 'Lag']).copy()\n",
    "drought_ID = np.unique(spline_drought['Plant.ID'])\n",
    "drought_Lag = np.unique(spline_drought['Lag'])\n",
    "control_ID = np.unique(spline_control['Plant.ID'])\n",
    "control_Lag = np.unique(spline_control['Lag'])"
   ]
  },
  {
   "cell_type": "code",
   "execution_count": 5,
   "metadata": {},
   "outputs": [
    {
     "data": {
      "text/html": [
       "<div>\n",
       "<style scoped>\n",
       "    .dataframe tbody tr th:only-of-type {\n",
       "        vertical-align: middle;\n",
       "    }\n",
       "\n",
       "    .dataframe tbody tr th {\n",
       "        vertical-align: top;\n",
       "    }\n",
       "\n",
       "    .dataframe thead th {\n",
       "        text-align: right;\n",
       "    }\n",
       "</style>\n",
       "<table border=\"1\" class=\"dataframe\">\n",
       "  <thead>\n",
       "    <tr style=\"text-align: right;\">\n",
       "      <th></th>\n",
       "      <th>Unnamed: 0</th>\n",
       "      <th>Plant.ID</th>\n",
       "      <th>Lag</th>\n",
       "      <th>Smooth.Predicted.Leaf.Area</th>\n",
       "      <th>Treatment</th>\n",
       "      <th>Leaf Area Growth Rate</th>\n",
       "      <th>rate_avg</th>\n",
       "      <th>std_z</th>\n",
       "      <th>z</th>\n",
       "      <th>z_tilde</th>\n",
       "      <th>g_avg</th>\n",
       "      <th>std_g</th>\n",
       "      <th>g</th>\n",
       "      <th>g_tilde</th>\n",
       "    </tr>\n",
       "  </thead>\n",
       "  <tbody>\n",
       "    <tr>\n",
       "      <th>0</th>\n",
       "      <td>1</td>\n",
       "      <td>574</td>\n",
       "      <td>0.3188</td>\n",
       "      <td>247.401166</td>\n",
       "      <td>control</td>\n",
       "      <td>NaN</td>\n",
       "      <td>NaN</td>\n",
       "      <td>NaN</td>\n",
       "      <td>NaN</td>\n",
       "      <td>NaN</td>\n",
       "      <td>208.490884</td>\n",
       "      <td>38.736018</td>\n",
       "      <td>38.910282</td>\n",
       "      <td>1.004499</td>\n",
       "    </tr>\n",
       "    <tr>\n",
       "      <th>2</th>\n",
       "      <td>41</td>\n",
       "      <td>576</td>\n",
       "      <td>0.3188</td>\n",
       "      <td>197.520802</td>\n",
       "      <td>control</td>\n",
       "      <td>NaN</td>\n",
       "      <td>NaN</td>\n",
       "      <td>NaN</td>\n",
       "      <td>NaN</td>\n",
       "      <td>NaN</td>\n",
       "      <td>208.490884</td>\n",
       "      <td>38.736018</td>\n",
       "      <td>-10.970083</td>\n",
       "      <td>-0.283201</td>\n",
       "    </tr>\n",
       "    <tr>\n",
       "      <th>4</th>\n",
       "      <td>81</td>\n",
       "      <td>578</td>\n",
       "      <td>0.3188</td>\n",
       "      <td>253.547879</td>\n",
       "      <td>control</td>\n",
       "      <td>NaN</td>\n",
       "      <td>NaN</td>\n",
       "      <td>NaN</td>\n",
       "      <td>NaN</td>\n",
       "      <td>NaN</td>\n",
       "      <td>208.490884</td>\n",
       "      <td>38.736018</td>\n",
       "      <td>45.056994</td>\n",
       "      <td>1.163181</td>\n",
       "    </tr>\n",
       "    <tr>\n",
       "      <th>6</th>\n",
       "      <td>121</td>\n",
       "      <td>580</td>\n",
       "      <td>0.3188</td>\n",
       "      <td>155.667348</td>\n",
       "      <td>control</td>\n",
       "      <td>NaN</td>\n",
       "      <td>NaN</td>\n",
       "      <td>NaN</td>\n",
       "      <td>NaN</td>\n",
       "      <td>NaN</td>\n",
       "      <td>208.490884</td>\n",
       "      <td>38.736018</td>\n",
       "      <td>-52.823537</td>\n",
       "      <td>-1.363680</td>\n",
       "    </tr>\n",
       "    <tr>\n",
       "      <th>8</th>\n",
       "      <td>177</td>\n",
       "      <td>582</td>\n",
       "      <td>0.3188</td>\n",
       "      <td>223.174970</td>\n",
       "      <td>control</td>\n",
       "      <td>NaN</td>\n",
       "      <td>NaN</td>\n",
       "      <td>NaN</td>\n",
       "      <td>NaN</td>\n",
       "      <td>NaN</td>\n",
       "      <td>208.490884</td>\n",
       "      <td>38.736018</td>\n",
       "      <td>14.684086</td>\n",
       "      <td>0.379081</td>\n",
       "    </tr>\n",
       "  </tbody>\n",
       "</table>\n",
       "</div>"
      ],
      "text/plain": [
       "   Unnamed: 0  Plant.ID     Lag  Smooth.Predicted.Leaf.Area Treatment  \\\n",
       "0           1       574  0.3188                  247.401166   control   \n",
       "2          41       576  0.3188                  197.520802   control   \n",
       "4          81       578  0.3188                  253.547879   control   \n",
       "6         121       580  0.3188                  155.667348   control   \n",
       "8         177       582  0.3188                  223.174970   control   \n",
       "\n",
       "   Leaf Area Growth Rate  rate_avg  std_z   z  z_tilde       g_avg      std_g  \\\n",
       "0                    NaN       NaN    NaN NaN      NaN  208.490884  38.736018   \n",
       "2                    NaN       NaN    NaN NaN      NaN  208.490884  38.736018   \n",
       "4                    NaN       NaN    NaN NaN      NaN  208.490884  38.736018   \n",
       "6                    NaN       NaN    NaN NaN      NaN  208.490884  38.736018   \n",
       "8                    NaN       NaN    NaN NaN      NaN  208.490884  38.736018   \n",
       "\n",
       "           g   g_tilde  \n",
       "0  38.910282  1.004499  \n",
       "2 -10.970083 -0.283201  \n",
       "4  45.056994  1.163181  \n",
       "6 -52.823537 -1.363680  \n",
       "8  14.684086  0.379081  "
      ]
     },
     "execution_count": 5,
     "metadata": {},
     "output_type": "execute_result"
    }
   ],
   "source": [
    "spline_control.sort_values(['Lag', 'Plant.ID']).head()"
   ]
  },
  {
   "cell_type": "code",
   "execution_count": 6,
   "metadata": {},
   "outputs": [
    {
     "data": {
      "text/html": [
       "<div>\n",
       "<style scoped>\n",
       "    .dataframe tbody tr th:only-of-type {\n",
       "        vertical-align: middle;\n",
       "    }\n",
       "\n",
       "    .dataframe tbody tr th {\n",
       "        vertical-align: top;\n",
       "    }\n",
       "\n",
       "    .dataframe thead th {\n",
       "        text-align: right;\n",
       "    }\n",
       "</style>\n",
       "<table border=\"1\" class=\"dataframe\">\n",
       "  <thead>\n",
       "    <tr style=\"text-align: right;\">\n",
       "      <th></th>\n",
       "      <th>Unnamed: 0</th>\n",
       "      <th>Plant.ID</th>\n",
       "      <th>Lag</th>\n",
       "      <th>Smooth.Predicted.Leaf.Area</th>\n",
       "      <th>Treatment</th>\n",
       "      <th>Leaf Area Growth Rate</th>\n",
       "      <th>rate_avg</th>\n",
       "      <th>std_z</th>\n",
       "      <th>z</th>\n",
       "      <th>z_tilde</th>\n",
       "      <th>g_avg</th>\n",
       "      <th>std_g</th>\n",
       "      <th>g</th>\n",
       "      <th>g_tilde</th>\n",
       "    </tr>\n",
       "  </thead>\n",
       "  <tbody>\n",
       "    <tr>\n",
       "      <th>0</th>\n",
       "      <td>1</td>\n",
       "      <td>574</td>\n",
       "      <td>0.3188</td>\n",
       "      <td>247.401166</td>\n",
       "      <td>control</td>\n",
       "      <td>NaN</td>\n",
       "      <td>NaN</td>\n",
       "      <td>NaN</td>\n",
       "      <td>NaN</td>\n",
       "      <td>NaN</td>\n",
       "      <td>208.490884</td>\n",
       "      <td>38.736018</td>\n",
       "      <td>38.910282</td>\n",
       "      <td>1.004499</td>\n",
       "    </tr>\n",
       "    <tr>\n",
       "      <th>99</th>\n",
       "      <td>2</td>\n",
       "      <td>574</td>\n",
       "      <td>0.8188</td>\n",
       "      <td>272.284854</td>\n",
       "      <td>control</td>\n",
       "      <td>0.100580</td>\n",
       "      <td>0.112860</td>\n",
       "      <td>0.047695</td>\n",
       "      <td>-0.012280</td>\n",
       "      <td>-0.257463</td>\n",
       "      <td>231.540615</td>\n",
       "      <td>42.518788</td>\n",
       "      <td>40.744239</td>\n",
       "      <td>0.958264</td>\n",
       "    </tr>\n",
       "    <tr>\n",
       "      <th>198</th>\n",
       "      <td>3</td>\n",
       "      <td>574</td>\n",
       "      <td>1.3188</td>\n",
       "      <td>295.862394</td>\n",
       "      <td>control</td>\n",
       "      <td>0.086591</td>\n",
       "      <td>0.118307</td>\n",
       "      <td>0.033208</td>\n",
       "      <td>-0.031716</td>\n",
       "      <td>-0.955055</td>\n",
       "      <td>258.536533</td>\n",
       "      <td>46.350894</td>\n",
       "      <td>37.325861</td>\n",
       "      <td>0.805289</td>\n",
       "    </tr>\n",
       "    <tr>\n",
       "      <th>297</th>\n",
       "      <td>4</td>\n",
       "      <td>574</td>\n",
       "      <td>1.8188</td>\n",
       "      <td>318.813165</td>\n",
       "      <td>control</td>\n",
       "      <td>0.077572</td>\n",
       "      <td>0.119749</td>\n",
       "      <td>0.032982</td>\n",
       "      <td>-0.042176</td>\n",
       "      <td>-1.278743</td>\n",
       "      <td>289.133327</td>\n",
       "      <td>50.678142</td>\n",
       "      <td>29.679838</td>\n",
       "      <td>0.585654</td>\n",
       "    </tr>\n",
       "    <tr>\n",
       "      <th>396</th>\n",
       "      <td>5</td>\n",
       "      <td>574</td>\n",
       "      <td>2.3188</td>\n",
       "      <td>341.816545</td>\n",
       "      <td>control</td>\n",
       "      <td>0.072153</td>\n",
       "      <td>0.117748</td>\n",
       "      <td>0.032154</td>\n",
       "      <td>-0.045595</td>\n",
       "      <td>-1.418008</td>\n",
       "      <td>322.985687</td>\n",
       "      <td>56.324609</td>\n",
       "      <td>18.830859</td>\n",
       "      <td>0.334327</td>\n",
       "    </tr>\n",
       "  </tbody>\n",
       "</table>\n",
       "</div>"
      ],
      "text/plain": [
       "     Unnamed: 0  Plant.ID     Lag  Smooth.Predicted.Leaf.Area Treatment  \\\n",
       "0             1       574  0.3188                  247.401166   control   \n",
       "99            2       574  0.8188                  272.284854   control   \n",
       "198           3       574  1.3188                  295.862394   control   \n",
       "297           4       574  1.8188                  318.813165   control   \n",
       "396           5       574  2.3188                  341.816545   control   \n",
       "\n",
       "     Leaf Area Growth Rate  rate_avg     std_z         z   z_tilde  \\\n",
       "0                      NaN       NaN       NaN       NaN       NaN   \n",
       "99                0.100580  0.112860  0.047695 -0.012280 -0.257463   \n",
       "198               0.086591  0.118307  0.033208 -0.031716 -0.955055   \n",
       "297               0.077572  0.119749  0.032982 -0.042176 -1.278743   \n",
       "396               0.072153  0.117748  0.032154 -0.045595 -1.418008   \n",
       "\n",
       "          g_avg      std_g          g   g_tilde  \n",
       "0    208.490884  38.736018  38.910282  1.004499  \n",
       "99   231.540615  42.518788  40.744239  0.958264  \n",
       "198  258.536533  46.350894  37.325861  0.805289  \n",
       "297  289.133327  50.678142  29.679838  0.585654  \n",
       "396  322.985687  56.324609  18.830859  0.334327  "
      ]
     },
     "execution_count": 6,
     "metadata": {},
     "output_type": "execute_result"
    }
   ],
   "source": [
    "spline_control.head()"
   ]
  },
  {
   "cell_type": "code",
   "execution_count": null,
   "metadata": {},
   "outputs": [],
   "source": []
  },
  {
   "cell_type": "code",
   "execution_count": null,
   "metadata": {},
   "outputs": [],
   "source": []
  },
  {
   "cell_type": "markdown",
   "metadata": {},
   "source": [
    "# z_tilde"
   ]
  },
  {
   "cell_type": "code",
   "execution_count": 25,
   "metadata": {},
   "outputs": [
    {
     "data": {
      "text/html": [
       "<div>\n",
       "<style scoped>\n",
       "    .dataframe tbody tr th:only-of-type {\n",
       "        vertical-align: middle;\n",
       "    }\n",
       "\n",
       "    .dataframe tbody tr th {\n",
       "        vertical-align: top;\n",
       "    }\n",
       "\n",
       "    .dataframe thead th {\n",
       "        text-align: right;\n",
       "    }\n",
       "</style>\n",
       "<table border=\"1\" class=\"dataframe\">\n",
       "  <thead>\n",
       "    <tr style=\"text-align: right;\">\n",
       "      <th></th>\n",
       "      <th>0</th>\n",
       "      <th>1</th>\n",
       "      <th>2</th>\n",
       "      <th>3</th>\n",
       "      <th>4</th>\n",
       "      <th>5</th>\n",
       "      <th>6</th>\n",
       "      <th>7</th>\n",
       "      <th>8</th>\n",
       "      <th>9</th>\n",
       "      <th>...</th>\n",
       "      <th>54</th>\n",
       "      <th>55</th>\n",
       "      <th>56</th>\n",
       "      <th>57</th>\n",
       "      <th>58</th>\n",
       "      <th>59</th>\n",
       "      <th>60</th>\n",
       "      <th>61</th>\n",
       "      <th>62</th>\n",
       "      <th>63</th>\n",
       "    </tr>\n",
       "  </thead>\n",
       "  <tbody>\n",
       "    <tr>\n",
       "      <th>0</th>\n",
       "      <td>NaN</td>\n",
       "      <td>-0.257463</td>\n",
       "      <td>-0.955055</td>\n",
       "      <td>-1.278743</td>\n",
       "      <td>-1.418008</td>\n",
       "      <td>-1.576136</td>\n",
       "      <td>-1.802190</td>\n",
       "      <td>-1.952753</td>\n",
       "      <td>-1.484488</td>\n",
       "      <td>-0.954871</td>\n",
       "      <td>...</td>\n",
       "      <td>NaN</td>\n",
       "      <td>NaN</td>\n",
       "      <td>NaN</td>\n",
       "      <td>NaN</td>\n",
       "      <td>NaN</td>\n",
       "      <td>NaN</td>\n",
       "      <td>NaN</td>\n",
       "      <td>NaN</td>\n",
       "      <td>NaN</td>\n",
       "      <td>NaN</td>\n",
       "    </tr>\n",
       "    <tr>\n",
       "      <th>1</th>\n",
       "      <td>NaN</td>\n",
       "      <td>0.303806</td>\n",
       "      <td>0.603990</td>\n",
       "      <td>0.560401</td>\n",
       "      <td>0.417051</td>\n",
       "      <td>0.228739</td>\n",
       "      <td>-0.076554</td>\n",
       "      <td>-0.606028</td>\n",
       "      <td>-1.086313</td>\n",
       "      <td>-1.258140</td>\n",
       "      <td>...</td>\n",
       "      <td>NaN</td>\n",
       "      <td>NaN</td>\n",
       "      <td>NaN</td>\n",
       "      <td>NaN</td>\n",
       "      <td>NaN</td>\n",
       "      <td>NaN</td>\n",
       "      <td>NaN</td>\n",
       "      <td>NaN</td>\n",
       "      <td>NaN</td>\n",
       "      <td>NaN</td>\n",
       "    </tr>\n",
       "    <tr>\n",
       "      <th>2</th>\n",
       "      <td>NaN</td>\n",
       "      <td>-0.062706</td>\n",
       "      <td>-1.556585</td>\n",
       "      <td>-2.302554</td>\n",
       "      <td>-2.563766</td>\n",
       "      <td>-2.676528</td>\n",
       "      <td>-2.568922</td>\n",
       "      <td>-1.759545</td>\n",
       "      <td>0.016188</td>\n",
       "      <td>1.001403</td>\n",
       "      <td>...</td>\n",
       "      <td>NaN</td>\n",
       "      <td>NaN</td>\n",
       "      <td>NaN</td>\n",
       "      <td>NaN</td>\n",
       "      <td>NaN</td>\n",
       "      <td>NaN</td>\n",
       "      <td>NaN</td>\n",
       "      <td>NaN</td>\n",
       "      <td>NaN</td>\n",
       "      <td>NaN</td>\n",
       "    </tr>\n",
       "    <tr>\n",
       "      <th>3</th>\n",
       "      <td>NaN</td>\n",
       "      <td>0.171425</td>\n",
       "      <td>0.729004</td>\n",
       "      <td>0.882614</td>\n",
       "      <td>0.855023</td>\n",
       "      <td>0.786885</td>\n",
       "      <td>0.658167</td>\n",
       "      <td>0.347268</td>\n",
       "      <td>-0.142898</td>\n",
       "      <td>-0.301002</td>\n",
       "      <td>...</td>\n",
       "      <td>NaN</td>\n",
       "      <td>NaN</td>\n",
       "      <td>NaN</td>\n",
       "      <td>NaN</td>\n",
       "      <td>NaN</td>\n",
       "      <td>NaN</td>\n",
       "      <td>NaN</td>\n",
       "      <td>NaN</td>\n",
       "      <td>NaN</td>\n",
       "      <td>NaN</td>\n",
       "    </tr>\n",
       "    <tr>\n",
       "      <th>4</th>\n",
       "      <td>NaN</td>\n",
       "      <td>0.675413</td>\n",
       "      <td>0.351469</td>\n",
       "      <td>-0.039308</td>\n",
       "      <td>-0.258669</td>\n",
       "      <td>-0.409443</td>\n",
       "      <td>-0.560369</td>\n",
       "      <td>-0.694853</td>\n",
       "      <td>-0.603400</td>\n",
       "      <td>-0.465696</td>\n",
       "      <td>...</td>\n",
       "      <td>NaN</td>\n",
       "      <td>NaN</td>\n",
       "      <td>NaN</td>\n",
       "      <td>NaN</td>\n",
       "      <td>NaN</td>\n",
       "      <td>NaN</td>\n",
       "      <td>NaN</td>\n",
       "      <td>NaN</td>\n",
       "      <td>NaN</td>\n",
       "      <td>NaN</td>\n",
       "    </tr>\n",
       "  </tbody>\n",
       "</table>\n",
       "<p>5 rows × 64 columns</p>\n",
       "</div>"
      ],
      "text/plain": [
       "   0         1         2         3         4         5         6         7   \\\n",
       "0 NaN -0.257463 -0.955055 -1.278743 -1.418008 -1.576136 -1.802190 -1.952753   \n",
       "1 NaN  0.303806  0.603990  0.560401  0.417051  0.228739 -0.076554 -0.606028   \n",
       "2 NaN -0.062706 -1.556585 -2.302554 -2.563766 -2.676528 -2.568922 -1.759545   \n",
       "3 NaN  0.171425  0.729004  0.882614  0.855023  0.786885  0.658167  0.347268   \n",
       "4 NaN  0.675413  0.351469 -0.039308 -0.258669 -0.409443 -0.560369 -0.694853   \n",
       "\n",
       "         8         9   ...  54  55  56  57  58  59  60  61  62  63  \n",
       "0 -1.484488 -0.954871  ... NaN NaN NaN NaN NaN NaN NaN NaN NaN NaN  \n",
       "1 -1.086313 -1.258140  ... NaN NaN NaN NaN NaN NaN NaN NaN NaN NaN  \n",
       "2  0.016188  1.001403  ... NaN NaN NaN NaN NaN NaN NaN NaN NaN NaN  \n",
       "3 -0.142898 -0.301002  ... NaN NaN NaN NaN NaN NaN NaN NaN NaN NaN  \n",
       "4 -0.603400 -0.465696  ... NaN NaN NaN NaN NaN NaN NaN NaN NaN NaN  \n",
       "\n",
       "[5 rows x 64 columns]"
      ]
     },
     "execution_count": 25,
     "metadata": {},
     "output_type": "execute_result"
    }
   ],
   "source": [
    "control_z = pd.read_csv(data_path + r'\\daily_z_tilde_control_list.csv',  header= None)\n",
    "control_z .head()"
   ]
  },
  {
   "cell_type": "markdown",
   "metadata": {},
   "source": [
    "# Generate more control samples -Simulation"
   ]
  },
  {
   "cell_type": "code",
   "execution_count": 26,
   "metadata": {},
   "outputs": [],
   "source": [
    "nsample = 10000\n",
    "ncol = control_z.shape[1]\n",
    "random.seed(42)\n",
    "sample_z = np.zeros((nsample, ncol))\n",
    "\n",
    "for i in range(1, ncol):\n",
    "    sample_z[:, i] = random.choices(control_z.iloc[:, i].dropna().tolist(), k = nsample)\n",
    "#sample_z[0]"
   ]
  },
  {
   "cell_type": "code",
   "execution_count": 27,
   "metadata": {},
   "outputs": [
    {
     "data": {
      "text/plain": [
       "array([[ 0.        , -0.44977411, -0.79304769, ...,  0.28357829,\n",
       "        -0.66803094,  0.74650303],\n",
       "       [ 0.        ,  0.30380589, -1.6812551 , ..., -0.06400899,\n",
       "         0.53092699,  0.25979379],\n",
       "       [ 0.        , -0.6984189 ,  0.94266184, ...,  0.17634359,\n",
       "        -2.15488565, -2.09429621],\n",
       "       ...,\n",
       "       [ 0.        , -0.50984498,  0.23765339, ...,  0.39104491,\n",
       "         0.31275912, -0.51462319],\n",
       "       [ 0.        , -1.51455431, -1.50118815, ...,  0.10142639,\n",
       "        -0.13442128,  0.56380148],\n",
       "       [ 0.        ,  0.17142537,  1.773098  , ..., -0.35362937,\n",
       "        -0.66803094,  1.80543431]])"
      ]
     },
     "execution_count": 27,
     "metadata": {},
     "output_type": "execute_result"
    }
   ],
   "source": [
    "sample_z"
   ]
  },
  {
   "cell_type": "code",
   "execution_count": 28,
   "metadata": {},
   "outputs": [],
   "source": [
    "target = 60"
   ]
  },
  {
   "cell_type": "code",
   "execution_count": 29,
   "metadata": {},
   "outputs": [
    {
     "data": {
      "text/html": [
       "<div>\n",
       "<style scoped>\n",
       "    .dataframe tbody tr th:only-of-type {\n",
       "        vertical-align: middle;\n",
       "    }\n",
       "\n",
       "    .dataframe tbody tr th {\n",
       "        vertical-align: top;\n",
       "    }\n",
       "\n",
       "    .dataframe thead th {\n",
       "        text-align: right;\n",
       "    }\n",
       "</style>\n",
       "<table border=\"1\" class=\"dataframe\">\n",
       "  <thead>\n",
       "    <tr style=\"text-align: right;\">\n",
       "      <th></th>\n",
       "      <th>Unnamed: 0</th>\n",
       "      <th>Plant.ID</th>\n",
       "      <th>Lag</th>\n",
       "      <th>Smooth.Predicted.Leaf.Area</th>\n",
       "      <th>Treatment</th>\n",
       "      <th>Leaf Area Growth Rate</th>\n",
       "      <th>rate_avg</th>\n",
       "      <th>std_z</th>\n",
       "      <th>z</th>\n",
       "      <th>z_tilde</th>\n",
       "      <th>g_avg</th>\n",
       "      <th>std_g</th>\n",
       "      <th>g</th>\n",
       "      <th>g_tilde</th>\n",
       "      <th>-1</th>\n",
       "      <th>-2</th>\n",
       "      <th>-1_bar</th>\n",
       "    </tr>\n",
       "  </thead>\n",
       "  <tbody>\n",
       "    <tr>\n",
       "      <th>1</th>\n",
       "      <td>21</td>\n",
       "      <td>575</td>\n",
       "      <td>0.3188</td>\n",
       "      <td>180.108925</td>\n",
       "      <td>drought</td>\n",
       "      <td>NaN</td>\n",
       "      <td>NaN</td>\n",
       "      <td>NaN</td>\n",
       "      <td>NaN</td>\n",
       "      <td>0.000000</td>\n",
       "      <td>208.490884</td>\n",
       "      <td>38.736018</td>\n",
       "      <td>-28.381959</td>\n",
       "      <td>-0.732702</td>\n",
       "      <td>0.000000</td>\n",
       "      <td>0.000000</td>\n",
       "      <td>-1.000000</td>\n",
       "    </tr>\n",
       "    <tr>\n",
       "      <th>100</th>\n",
       "      <td>22</td>\n",
       "      <td>575</td>\n",
       "      <td>0.8188</td>\n",
       "      <td>201.452124</td>\n",
       "      <td>drought</td>\n",
       "      <td>0.118502</td>\n",
       "      <td>0.112860</td>\n",
       "      <td>0.047695</td>\n",
       "      <td>0.005642</td>\n",
       "      <td>0.118285</td>\n",
       "      <td>231.540615</td>\n",
       "      <td>42.518788</td>\n",
       "      <td>-30.088491</td>\n",
       "      <td>-0.707652</td>\n",
       "      <td>0.000000</td>\n",
       "      <td>0.000000</td>\n",
       "      <td>-1.000000</td>\n",
       "    </tr>\n",
       "    <tr>\n",
       "      <th>199</th>\n",
       "      <td>23</td>\n",
       "      <td>575</td>\n",
       "      <td>1.3188</td>\n",
       "      <td>225.587612</td>\n",
       "      <td>drought</td>\n",
       "      <td>0.119808</td>\n",
       "      <td>0.118307</td>\n",
       "      <td>0.033208</td>\n",
       "      <td>0.001500</td>\n",
       "      <td>0.045175</td>\n",
       "      <td>258.536533</td>\n",
       "      <td>46.350894</td>\n",
       "      <td>-32.948921</td>\n",
       "      <td>-0.710858</td>\n",
       "      <td>0.000000</td>\n",
       "      <td>0.000000</td>\n",
       "      <td>-1.000000</td>\n",
       "    </tr>\n",
       "    <tr>\n",
       "      <th>298</th>\n",
       "      <td>24</td>\n",
       "      <td>575</td>\n",
       "      <td>1.8188</td>\n",
       "      <td>252.538915</td>\n",
       "      <td>drought</td>\n",
       "      <td>0.119472</td>\n",
       "      <td>0.119749</td>\n",
       "      <td>0.032982</td>\n",
       "      <td>-0.000277</td>\n",
       "      <td>-0.008398</td>\n",
       "      <td>289.133327</td>\n",
       "      <td>50.678142</td>\n",
       "      <td>-36.594412</td>\n",
       "      <td>-0.722095</td>\n",
       "      <td>0.000000</td>\n",
       "      <td>0.000000</td>\n",
       "      <td>-1.000000</td>\n",
       "    </tr>\n",
       "    <tr>\n",
       "      <th>397</th>\n",
       "      <td>25</td>\n",
       "      <td>575</td>\n",
       "      <td>2.3188</td>\n",
       "      <td>282.329563</td>\n",
       "      <td>drought</td>\n",
       "      <td>0.117965</td>\n",
       "      <td>0.117748</td>\n",
       "      <td>0.032154</td>\n",
       "      <td>0.000217</td>\n",
       "      <td>0.006737</td>\n",
       "      <td>322.985687</td>\n",
       "      <td>56.324609</td>\n",
       "      <td>-40.656123</td>\n",
       "      <td>-0.721818</td>\n",
       "      <td>0.000000</td>\n",
       "      <td>0.000000</td>\n",
       "      <td>-1.000000</td>\n",
       "    </tr>\n",
       "    <tr>\n",
       "      <th>...</th>\n",
       "      <td>...</td>\n",
       "      <td>...</td>\n",
       "      <td>...</td>\n",
       "      <td>...</td>\n",
       "      <td>...</td>\n",
       "      <td>...</td>\n",
       "      <td>...</td>\n",
       "      <td>...</td>\n",
       "      <td>...</td>\n",
       "      <td>...</td>\n",
       "      <td>...</td>\n",
       "      <td>...</td>\n",
       "      <td>...</td>\n",
       "      <td>...</td>\n",
       "      <td>...</td>\n",
       "      <td>...</td>\n",
       "      <td>...</td>\n",
       "    </tr>\n",
       "    <tr>\n",
       "      <th>4618</th>\n",
       "      <td>5064</td>\n",
       "      <td>671</td>\n",
       "      <td>25.8188</td>\n",
       "      <td>3271.655871</td>\n",
       "      <td>drought</td>\n",
       "      <td>0.063528</td>\n",
       "      <td>0.041939</td>\n",
       "      <td>0.013643</td>\n",
       "      <td>0.021589</td>\n",
       "      <td>1.582414</td>\n",
       "      <td>8417.475627</td>\n",
       "      <td>1045.406963</td>\n",
       "      <td>-5145.819756</td>\n",
       "      <td>-4.922312</td>\n",
       "      <td>63.856024</td>\n",
       "      <td>82.622247</td>\n",
       "      <td>-1.756057</td>\n",
       "    </tr>\n",
       "    <tr>\n",
       "      <th>4682</th>\n",
       "      <td>5065</td>\n",
       "      <td>671</td>\n",
       "      <td>26.3188</td>\n",
       "      <td>3475.421032</td>\n",
       "      <td>drought</td>\n",
       "      <td>0.062282</td>\n",
       "      <td>0.037158</td>\n",
       "      <td>0.007267</td>\n",
       "      <td>0.025124</td>\n",
       "      <td>3.457421</td>\n",
       "      <td>8722.445856</td>\n",
       "      <td>1123.502629</td>\n",
       "      <td>-5247.024824</td>\n",
       "      <td>-4.670238</td>\n",
       "      <td>56.610526</td>\n",
       "      <td>73.707405</td>\n",
       "      <td>-1.685026</td>\n",
       "    </tr>\n",
       "    <tr>\n",
       "      <th>4746</th>\n",
       "      <td>5066</td>\n",
       "      <td>671</td>\n",
       "      <td>26.8188</td>\n",
       "      <td>3682.487460</td>\n",
       "      <td>drought</td>\n",
       "      <td>0.059580</td>\n",
       "      <td>0.036255</td>\n",
       "      <td>0.007478</td>\n",
       "      <td>0.023326</td>\n",
       "      <td>3.119040</td>\n",
       "      <td>9038.033025</td>\n",
       "      <td>1164.119855</td>\n",
       "      <td>-5355.545565</td>\n",
       "      <td>-4.600510</td>\n",
       "      <td>50.444148</td>\n",
       "      <td>65.469325</td>\n",
       "      <td>-1.577891</td>\n",
       "    </tr>\n",
       "    <tr>\n",
       "      <th>4810</th>\n",
       "      <td>5067</td>\n",
       "      <td>671</td>\n",
       "      <td>27.3188</td>\n",
       "      <td>3887.819131</td>\n",
       "      <td>drought</td>\n",
       "      <td>0.055759</td>\n",
       "      <td>0.034970</td>\n",
       "      <td>0.007995</td>\n",
       "      <td>0.020789</td>\n",
       "      <td>2.600291</td>\n",
       "      <td>9353.275297</td>\n",
       "      <td>1202.990700</td>\n",
       "      <td>-5465.456166</td>\n",
       "      <td>-4.543224</td>\n",
       "      <td>45.492210</td>\n",
       "      <td>58.268743</td>\n",
       "      <td>-1.482036</td>\n",
       "    </tr>\n",
       "    <tr>\n",
       "      <th>4874</th>\n",
       "      <td>5068</td>\n",
       "      <td>671</td>\n",
       "      <td>27.8188</td>\n",
       "      <td>4086.380023</td>\n",
       "      <td>drought</td>\n",
       "      <td>0.051073</td>\n",
       "      <td>0.033333</td>\n",
       "      <td>0.008246</td>\n",
       "      <td>0.017739</td>\n",
       "      <td>2.151301</td>\n",
       "      <td>9664.420473</td>\n",
       "      <td>1242.052379</td>\n",
       "      <td>-5578.040450</td>\n",
       "      <td>-4.490986</td>\n",
       "      <td>41.499007</td>\n",
       "      <td>51.966141</td>\n",
       "      <td>-1.400389</td>\n",
       "    </tr>\n",
       "  </tbody>\n",
       "</table>\n",
       "<p>2424 rows × 17 columns</p>\n",
       "</div>"
      ],
      "text/plain": [
       "      Unnamed: 0  Plant.ID      Lag  Smooth.Predicted.Leaf.Area Treatment  \\\n",
       "1             21       575   0.3188                  180.108925   drought   \n",
       "100           22       575   0.8188                  201.452124   drought   \n",
       "199           23       575   1.3188                  225.587612   drought   \n",
       "298           24       575   1.8188                  252.538915   drought   \n",
       "397           25       575   2.3188                  282.329563   drought   \n",
       "...          ...       ...      ...                         ...       ...   \n",
       "4618        5064       671  25.8188                 3271.655871   drought   \n",
       "4682        5065       671  26.3188                 3475.421032   drought   \n",
       "4746        5066       671  26.8188                 3682.487460   drought   \n",
       "4810        5067       671  27.3188                 3887.819131   drought   \n",
       "4874        5068       671  27.8188                 4086.380023   drought   \n",
       "\n",
       "      Leaf Area Growth Rate  rate_avg     std_z         z   z_tilde  \\\n",
       "1                       NaN       NaN       NaN       NaN  0.000000   \n",
       "100                0.118502  0.112860  0.047695  0.005642  0.118285   \n",
       "199                0.119808  0.118307  0.033208  0.001500  0.045175   \n",
       "298                0.119472  0.119749  0.032982 -0.000277 -0.008398   \n",
       "397                0.117965  0.117748  0.032154  0.000217  0.006737   \n",
       "...                     ...       ...       ...       ...       ...   \n",
       "4618               0.063528  0.041939  0.013643  0.021589  1.582414   \n",
       "4682               0.062282  0.037158  0.007267  0.025124  3.457421   \n",
       "4746               0.059580  0.036255  0.007478  0.023326  3.119040   \n",
       "4810               0.055759  0.034970  0.007995  0.020789  2.600291   \n",
       "4874               0.051073  0.033333  0.008246  0.017739  2.151301   \n",
       "\n",
       "            g_avg        std_g            g   g_tilde         -1         -2  \\\n",
       "1      208.490884    38.736018   -28.381959 -0.732702   0.000000   0.000000   \n",
       "100    231.540615    42.518788   -30.088491 -0.707652   0.000000   0.000000   \n",
       "199    258.536533    46.350894   -32.948921 -0.710858   0.000000   0.000000   \n",
       "298    289.133327    50.678142   -36.594412 -0.722095   0.000000   0.000000   \n",
       "397    322.985687    56.324609   -40.656123 -0.721818   0.000000   0.000000   \n",
       "...           ...          ...          ...       ...        ...        ...   \n",
       "4618  8417.475627  1045.406963 -5145.819756 -4.922312  63.856024  82.622247   \n",
       "4682  8722.445856  1123.502629 -5247.024824 -4.670238  56.610526  73.707405   \n",
       "4746  9038.033025  1164.119855 -5355.545565 -4.600510  50.444148  65.469325   \n",
       "4810  9353.275297  1202.990700 -5465.456166 -4.543224  45.492210  58.268743   \n",
       "4874  9664.420473  1242.052379 -5578.040450 -4.490986  41.499007  51.966141   \n",
       "\n",
       "        -1_bar  \n",
       "1    -1.000000  \n",
       "100  -1.000000  \n",
       "199  -1.000000  \n",
       "298  -1.000000  \n",
       "397  -1.000000  \n",
       "...        ...  \n",
       "4618 -1.756057  \n",
       "4682 -1.685026  \n",
       "4746 -1.577891  \n",
       "4810 -1.482036  \n",
       "4874 -1.400389  \n",
       "\n",
       "[2424 rows x 17 columns]"
      ]
     },
     "execution_count": 29,
     "metadata": {},
     "output_type": "execute_result"
    }
   ],
   "source": [
    "spline_control[\"z_tilde\"] = spline_control[\"z_tilde\"].fillna(0)\n",
    "spline_drought[\"z_tilde\"] = spline_drought[\"z_tilde\"].fillna(0)\n",
    "spline_drought"
   ]
  },
  {
   "cell_type": "markdown",
   "metadata": {},
   "source": [
    "# Cusum"
   ]
  },
  {
   "cell_type": "code",
   "execution_count": 30,
   "metadata": {},
   "outputs": [
    {
     "name": "stdout",
     "output_type": "stream",
     "text": [
      "-1\n",
      "0\n",
      "500\n",
      "1000\n",
      "1500\n",
      "2000\n",
      "2500\n",
      "3000\n",
      "3500\n",
      "4000\n",
      "4500\n",
      "5000\n",
      "5500\n",
      "6000\n",
      "6500\n",
      "7000\n",
      "7500\n",
      "8000\n",
      "8500\n",
      "9000\n",
      "9500\n",
      "250.0\n",
      "125.0\n",
      "62.5\n",
      "31.25\n",
      "15.625\n",
      "7.8125\n",
      "3.90625\n",
      "5.859375\n",
      "4.8828125\n",
      "4.39453125\n",
      "--- 1.747328281402588 seconds ---\n",
      "-2\n",
      "0\n",
      "500\n",
      "1000\n",
      "1500\n",
      "2000\n",
      "2500\n",
      "3000\n",
      "3500\n",
      "4000\n",
      "4500\n",
      "5000\n",
      "5500\n",
      "6000\n",
      "6500\n",
      "7000\n",
      "7500\n",
      "8000\n",
      "8500\n",
      "9000\n",
      "9500\n",
      "250.0\n",
      "125.0\n",
      "62.5\n",
      "31.25\n",
      "15.625\n",
      "7.8125\n",
      "3.90625\n",
      "5.859375\n",
      "4.8828125\n",
      "5.37109375\n",
      "--- 3.4098825454711914 seconds ---\n"
     ]
    }
   ],
   "source": [
    "theta = [-1, -2]\n",
    "control_result_dic = sim_control_cusum(sample_z, theta, target = target, tol = 0.5)"
   ]
  },
  {
   "cell_type": "code",
   "execution_count": 31,
   "metadata": {},
   "outputs": [
    {
     "name": "stdout",
     "output_type": "stream",
     "text": [
      "theta -1.00 | threshold 4.3945 | ARL  59.44 | SE 0.10\n",
      "theta -2.00 | threshold 5.3711 | ARL  58.99 | SE 0.10\n"
     ]
    }
   ],
   "source": [
    "for the in  theta:\n",
    "    print(\"theta %.2f | threshold %.4f | ARL  %.2f | SE %.2f\" %(the, control_result_dic[the]['b'], control_result_dic[the]['mean'], control_result_dic[the]['se']))"
   ]
  },
  {
   "cell_type": "code",
   "execution_count": 32,
   "metadata": {},
   "outputs": [
    {
     "name": "stdout",
     "output_type": "stream",
     "text": [
      "-1\n",
      "0\n",
      "--- 0.00603175163269043 seconds ---\n",
      "-2\n",
      "0\n",
      "--- 0.008974313735961914 seconds ---\n"
     ]
    }
   ],
   "source": [
    "drought_result_dic, spline_drought1= treatment_cusum(spline_drought, 'Plant.ID', 'z_tilde', theta, control_result_dic)"
   ]
  },
  {
   "cell_type": "code",
   "execution_count": 33,
   "metadata": {},
   "outputs": [
    {
     "name": "stdout",
     "output_type": "stream",
     "text": [
      "theta -1.00 | threshold 4.3945 | ARL  22.82 | SE 1.15\n",
      "theta -2.00 | threshold 5.3711 | ARL  24.04 | SE 1.12\n"
     ]
    }
   ],
   "source": [
    "for the in  theta:\n",
    "    print(\"theta %.2f | threshold %.4f | ARL  %.2f | SE %.2f\" %(the, drought_result_dic[the]['b'], drought_result_dic[the]['mean'], drought_result_dic[the]['se']))"
   ]
  },
  {
   "cell_type": "code",
   "execution_count": 34,
   "metadata": {},
   "outputs": [
    {
     "data": {
      "text/plain": [
       "-1_Alarm    11.726869\n",
       "-2_Alarm    12.339114\n",
       "dtype: float64"
      ]
     },
     "execution_count": 34,
     "metadata": {},
     "output_type": "execute_result"
    }
   ],
   "source": [
    "drought_alarm_z = dic_index_to_alarm_time( theta, drought_result_dic, drought_ID, drought_Lag)\n",
    "drought_alarm_z.mean()"
   ]
  },
  {
   "cell_type": "code",
   "execution_count": 35,
   "metadata": {},
   "outputs": [
    {
     "data": {
      "text/plain": [
       "-1_Alarm    0.574150\n",
       "-2_Alarm    0.560147\n",
       "dtype: float64"
      ]
     },
     "execution_count": 35,
     "metadata": {},
     "output_type": "execute_result"
    }
   ],
   "source": [
    "drought_alarm_z.sem()"
   ]
  },
  {
   "cell_type": "markdown",
   "metadata": {},
   "source": [
    "# Adaptive CUSUM"
   ]
  },
  {
   "cell_type": "code",
   "execution_count": 36,
   "metadata": {
    "scrolled": true
   },
   "outputs": [
    {
     "name": "stdout",
     "output_type": "stream",
     "text": [
      "-1\n",
      "0\n",
      "500\n",
      "1000\n",
      "1500\n",
      "2000\n",
      "2500\n",
      "3000\n",
      "3500\n",
      "4000\n",
      "4500\n",
      "5000\n",
      "5500\n",
      "6000\n",
      "6500\n",
      "7000\n",
      "7500\n",
      "8000\n",
      "8500\n",
      "9000\n",
      "9500\n",
      "250.0\n",
      "125.0\n",
      "62.5\n",
      "31.25\n",
      "15.625\n",
      "7.8125\n",
      "3.90625\n",
      "5.859375\n",
      "4.8828125\n",
      "4.39453125\n",
      "4.150390625\n",
      "--- 2.507814407348633 seconds ---\n"
     ]
    }
   ],
   "source": [
    "delta = [-1]\n",
    "\n",
    "control_result_dic = sim_control_adaptive_cusum(sample_z, delta, target = target, tol = 0.5)"
   ]
  },
  {
   "cell_type": "code",
   "execution_count": 37,
   "metadata": {},
   "outputs": [
    {
     "name": "stdout",
     "output_type": "stream",
     "text": [
      "delta -1.000 | threshold 4.1504 | ARL  59.14 | SE 0.11\n"
     ]
    }
   ],
   "source": [
    "\n",
    "for dta in  delta:\n",
    "    print(\"delta %.3f | threshold %.4f | ARL  %.2f | SE %.2f\" %(dta, control_result_dic[dta]['b'], control_result_dic[dta]['mean'], control_result_dic[dta]['se']))"
   ]
  },
  {
   "cell_type": "code",
   "execution_count": 38,
   "metadata": {
    "scrolled": true
   },
   "outputs": [
    {
     "name": "stdout",
     "output_type": "stream",
     "text": [
      "-1\n",
      "0\n",
      "44\n",
      "--- 0.024975299835205078 seconds ---\n"
     ]
    }
   ],
   "source": [
    "drought_result_dic, spline_drought1= treatment_adaptive_cusum(spline_drought, 'Plant.ID', 'z_tilde', delta, control_result_dic)\n",
    "#drought_result_dic = sim_treatment_adaptive_cusum(drought_z_arr, [-1.0], control_result_dic)"
   ]
  },
  {
   "cell_type": "code",
   "execution_count": 39,
   "metadata": {},
   "outputs": [
    {
     "name": "stdout",
     "output_type": "stream",
     "text": [
      "-1\n",
      "0\n",
      "36\n",
      "--- 0.008966922760009766 seconds ---\n"
     ]
    }
   ],
   "source": [
    "control_result_dic1, spline_control1= treatment_adaptive_cusum(spline_control, 'Plant.ID', 'z_tilde', delta, control_result_dic)"
   ]
  },
  {
   "cell_type": "code",
   "execution_count": 40,
   "metadata": {
    "scrolled": true
   },
   "outputs": [
    {
     "data": {
      "image/png": "[encoded data removed]",
      "text/plain": [
       "<Figure size 1440x360 with 2 Axes>"
      ]
     },
     "metadata": {
      "needs_background": "light"
     },
     "output_type": "display_data"
    }
   ],
   "source": [
    "size = 17\n",
    "#fig, (ax1, ax2) = plt.subplots(nrows=2, sharex = True, figsize = (16, 8))\n",
    "fig, (ax1, ax2) = plt.subplots(ncols = 2, figsize = (20, 5), sharey = True)\n",
    "df1 = spline_control1[spline_control1['Plant.ID'] == 666]\n",
    "df2 = spline_drought1[spline_drought1['Plant.ID'] == 669]\n",
    "\n",
    "sns.lineplot(x = 'Lag', y = df1[-1],  data = df1, ax = ax1)\n",
    "sns.scatterplot(x = 'Lag', y = df1[-1],  data = df1, ax = ax1)\n",
    "ax1.set_ylabel('adaptive CUSUM', fontsize = size )\n",
    "ax1.set_xlabel('Day', fontsize = size )\n",
    "ax1.set_xticks(np.arange(0, 31+1, 5.0))\n",
    "ax1.tick_params( labelsize=size)\n",
    "\n",
    "sns.lineplot(x = 'Lag', y = df2[-1],  data = df2, ax = ax2)\n",
    "sns.scatterplot(x = 'Lag', y = df2[-1],  data = df2, ax = ax2)\n",
    "#ax2.set_ylabel('ACF', fontsize = size )\n",
    "ax2.set_xlabel('Day', fontsize = size )\n",
    "ax2.set_xticks(np.arange(0, 31+1, 5.0))\n",
    "ax2.get_figure().suptitle('')\n",
    "ax2.get_figure().gca().set_title(\"\")\n",
    "ax2.tick_params( labelsize=size)\n",
    "plt.show()\n",
    "\n",
    "\n"
   ]
  },
  {
   "cell_type": "code",
   "execution_count": 41,
   "metadata": {},
   "outputs": [
    {
     "data": {
      "image/png": "[encoded data removed]",
      "text/plain": [
       "<Figure size 720x576 with 1 Axes>"
      ]
     },
     "metadata": {
      "needs_background": "light"
     },
     "output_type": "display_data"
    }
   ],
   "source": [
    "plt.figure(figsize=(10, 8))\n",
    "\n",
    "\n",
    "df2 = spline_drought1[spline_drought1['Plant.ID'] == 667]\n",
    "\n",
    "\n",
    "\n",
    "ax1.set_xticks(np.arange(0, 31+1, 5.0))\n",
    "\n",
    "fg = sns.lineplot(x = df2['Lag'], y = df2[-1], data =df2)#, data = spline_df)\n",
    "sns.scatterplot(x = df2['Lag'], y = df2[-1], data =df2)\n",
    "plt.ylabel('Adaptive CUSUM', fontsize = 15 )\n",
    "plt.xlabel('Day', fontsize = 15 )\n",
    "plt.axhline(4.15, linestyle='--', color='orange',  label='b=4.15')\n",
    "alarm_time=df2[df2[-1]>4.15]['Lag'].reset_index(drop=True)[0]\n",
    "plt.axvline(alarm_time, linestyle='--', color='brown',  \\\n",
    "            label='alarm time='+str(df2[df2[-1]>4.15]['Lag'].reset_index(drop=True)[0]))\n",
    "\n",
    "plt.tick_params( labelsize=15)\n",
    "plt.legend(loc ='upper left')\n",
    "\n",
    "plt.setp(fg.get_legend().get_texts(), fontsize='15') # for legend text\n",
    "plt.setp(fg.get_legend().get_title(), fontsize='15') # for legend title\n",
    "\n",
    "plt.show()\n"
   ]
  },
  {
   "cell_type": "code",
   "execution_count": 42,
   "metadata": {},
   "outputs": [
    {
     "data": {
      "image/png": "[encoded data removed]",
      "text/plain": [
       "<Figure size 720x576 with 1 Axes>"
      ]
     },
     "metadata": {
      "needs_background": "light"
     },
     "output_type": "display_data"
    }
   ],
   "source": [
    "plt.figure(figsize=(10, 8))\n",
    "\n",
    "\n",
    "df2 = spline_drought1[spline_drought1['Plant.ID'] == 669]\n",
    "\n",
    "\n",
    "\n",
    "ax1.set_xticks(np.arange(0, 31+1, 5.0))\n",
    "\n",
    "fg = sns.lineplot(x = df2['Lag'], y = df2[-1], data =df2)#, data = spline_df)\n",
    "sns.scatterplot(x = df2['Lag'], y = df2[-1], data =df2)\n",
    "plt.ylabel('Adaptive CUSUM', fontsize = 15 )\n",
    "plt.xlabel('Day', fontsize = 15 )\n",
    "plt.axhline(4.15, linestyle='--', color='orange',  label='b=4.15')\n",
    "alarm_time=df2[df2[-1]>4.15]['Lag'].reset_index(drop=True)[0]\n",
    "plt.axvline(alarm_time, linestyle='--', color='brown',  \\\n",
    "            label='alarm time='+str(df2[df2[-1]>4.15]['Lag'].reset_index(drop=True)[0]))\n",
    "\n",
    "plt.tick_params( labelsize=15)\n",
    "plt.legend(loc ='upper left')\n",
    "\n",
    "plt.setp(fg.get_legend().get_texts(), fontsize='15') # for legend text\n",
    "plt.setp(fg.get_legend().get_title(), fontsize='15') # for legend title\n",
    "\n",
    "plt.show()\n"
   ]
  },
  {
   "cell_type": "code",
   "execution_count": null,
   "metadata": {},
   "outputs": [],
   "source": []
  },
  {
   "cell_type": "code",
   "execution_count": 43,
   "metadata": {
    "scrolled": true
   },
   "outputs": [
    {
     "name": "stdout",
     "output_type": "stream",
     "text": [
      "delta -1.00 | threshold 4.1504 | ARL  22.14 | SE 1.17\n"
     ]
    }
   ],
   "source": [
    "\n",
    "for dta in  delta:\n",
    "    print(\"delta %.2f | threshold %.4f | ARL  %.2f | SE %.2f\" %(dta, drought_result_dic[dta]['b'], drought_result_dic[dta]['mean'], drought_result_dic[dta]['se']))"
   ]
  },
  {
   "cell_type": "code",
   "execution_count": 44,
   "metadata": {},
   "outputs": [],
   "source": [
    "df = pd.DataFrame.from_dict(drought_result_dic, orient=\"index\")"
   ]
  },
  {
   "cell_type": "code",
   "execution_count": null,
   "metadata": {},
   "outputs": [],
   "source": []
  },
  {
   "cell_type": "code",
   "execution_count": 45,
   "metadata": {
    "scrolled": true
   },
   "outputs": [
    {
     "data": {
      "text/plain": [
       "-1_Alarm    11.390135\n",
       "dtype: float64"
      ]
     },
     "execution_count": 45,
     "metadata": {},
     "output_type": "execute_result"
    }
   ],
   "source": [
    "drought_alarm_z = dic_index_to_alarm_time( delta, drought_result_dic, drought_ID, drought_Lag)\n",
    "drought_alarm_z.mean()"
   ]
  },
  {
   "cell_type": "code",
   "execution_count": 46,
   "metadata": {
    "scrolled": true
   },
   "outputs": [
    {
     "data": {
      "text/plain": [
       "-1_Alarm    0.583574\n",
       "dtype: float64"
      ]
     },
     "execution_count": 46,
     "metadata": {},
     "output_type": "execute_result"
    }
   ],
   "source": [
    "drought_alarm_z.sem()"
   ]
  },
  {
   "cell_type": "code",
   "execution_count": null,
   "metadata": {},
   "outputs": [],
   "source": []
  },
  {
   "cell_type": "code",
   "execution_count": null,
   "metadata": {},
   "outputs": [],
   "source": []
  },
  {
   "cell_type": "code",
   "execution_count": null,
   "metadata": {},
   "outputs": [],
   "source": []
  }
 ],
 "metadata": {
  "kernelspec": {
   "display_name": "Python 3",
   "language": "python",
   "name": "python3"
  },
  "language_info": {
   "codemirror_mode": {
    "name": "ipython",
    "version": 3
   },
   "file_extension": ".py",
   "mimetype": "text/x-python",
   "name": "python",
   "nbconvert_exporter": "python",
   "pygments_lexer": "ipython3",
   "version": "3.6.12"
  }
 },
 "nbformat": 4,
 "nbformat_minor": 4
}
